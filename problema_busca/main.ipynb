{
 "cells": [
  {
   "cell_type": "markdown",
   "id": "66e3170b44faea0e",
   "metadata": {},
   "source": [
    "# Resolução de problemas usando busca\n",
    "\n",
    "- **Disciplina:** Inteligência Artificial\n",
    "- **Professor:** Anderson Cavalcanti\n",
    "- **Universidade:** Universidade Federal Rural de Pernambuco — Unidade Acadêmica de Belo Jardim\n",
    "- **Autores:** Maria Clara da Silva Ferreira & Yann Keven Jordão Leão\n",
    "- **Curso:** Engenharia da Computação"
   ]
  },
  {
   "cell_type": "markdown",
   "id": "848865ecf8476b65",
   "metadata": {},
   "source": [
    "## Parte 1 — Definições fundamentais\n",
    "\n",
    "### Pergunta 1\n",
    "\n",
    "**Defina o que são: estado, espaço de estados, árvore de busca, estado inicial e estado objetivo, função de sucessor e fator de ramificação.**\n",
    "\n",
    "### Resposta\n",
    "\n",
    "**Estado:**\n",
    "Um estado é uma representação formal de uma configuração do problema em um determinado momento. Ele descreve a situação atual do ambiente ou do sistema que está sendo analisado. Por exemplo, em um jogo de xadrez, um estado pode ser a posição de todas as peças no tabuleiro em dado instante.\n",
    "\n",
    "**Espaço de estados:**\n",
    "É o conjunto de todos os estados possíveis que podem ser alcançados a partir do estado inicial, aplicando-se as ações permitidas do problema. Ele define o universo de busca que o algoritmo deve explorar.\n",
    "\n",
    "**Árvore de busca:**\n",
    "É uma estrutura de dados utilizada para organizar a exploração do espaço de estados. Cada nó da árvore corresponde a um estado, e cada aresta representa uma ação aplicada. A raiz da árvore corresponde ao estado inicial, e os nós-folha representam estados que podem ou não ser objetivos.\n",
    "\n",
    "**Estado inicial:**\n",
    "É o ponto de partida do problema, ou seja, a configuração inicial a partir da qual a busca começa. Ele corresponde à raiz da árvore de busca.\n",
    "\n",
    "**Estado objetivo:**\n",
    "É um estado final que satisfaz as condições de solução do problema. Dependendo do problema, pode haver um único estado objetivo (como encontrar um nó específico em um grafo) ou múltiplos (como todas as soluções válidas no problema das 8 rainhas).\n",
    "\n",
    "**Função de sucessor:**\n",
    "É a função que, dado um estado atual, retorna o conjunto de estados que podem ser alcançados a partir dele por meio da aplicação das ações válidas. Em termos práticos, ela define as transições entre os estados.\n",
    "\n",
    "**Fator de ramificação (b):**\n",
    "É o número médio de sucessores (filhos) gerados a partir de um nó da árvore de busca. Ele é um parâmetro crítico para estimar a complexidade dos algoritmos de busca, pois influencia diretamente no crescimento exponencial da árvore."
   ]
  },
  {
   "cell_type": "markdown",
   "id": "abcff88a58208ea3",
   "metadata": {},
   "source": [
    "## Parte 2 — O Problema das 8 Rainhas\n",
    "\n",
    "### Pergunta 2\n",
    "\n",
    "O problema das 8 rainhas consiste em posicionar 8 rainhas em um tabuleiro de xadrez, inicialmente vazio, de modo que nenhuma rainha ataque outra.\n",
    "\n",
    "**a)** Sabendo que neste problema somente estamos interessados nos estados terminais, e que não há solução ótima (todas as soluções têm o mesmo custo), qual método de busca não informada você usaria para solucionar este problema? Por quê?\n",
    "\n",
    "**b)** Defina como um estado poderia ser representado. É necessário economizar memória na representação do estado?\n",
    "\n",
    "**c)** Defina uma função que retorna verdadeiro se um estado é uma solução e falso se não for.\n",
    "\n",
    "### Resposta\n",
    "\n",
    "**a) Método de busca adequado**\n",
    "Como não há solução ótima e todas as soluções têm o mesmo custo, podemos utilizar **Busca em Profundidade (DFS com backtracking)**. Esse método é apropriado porque:\n",
    "\n",
    "* Ele explora rapidamente uma configuração completa até encontrar uma solução válida;\n",
    "* Permite retroceder (backtracking) quando atinge um estado inválido;\n",
    "* O problema não exige encontrar todas as soluções de forma otimizada, apenas estados terminais válidos.\n",
    "\n",
    "**b) Representação do estado**\n",
    "Um estado pode ser representado por uma lista de tamanho 8, onde o índice representa a coluna do tabuleiro e o valor da lista representa a linha em que a rainha está posicionada.\n",
    "Exemplo:\n",
    "`[0, 4, 7, 5, 2, 6, 1, 3]`\n",
    "Nesse caso, a rainha da coluna 0 está na linha 0, a da coluna 1 na linha 4, e assim por diante.\n",
    "Essa representação economiza memória, pois evita a necessidade de armazenar o tabuleiro completo 8x8. Como sabemos que cada coluna terá exatamente uma rainha, basta guardar sua linha correspondente.\n",
    "\n",
    "**c) Função de verificação de solução**\n",
    "Para que um estado seja considerado solução, nenhuma rainha pode estar sob ataque de outra. Isso implica verificar três condições para cada par de rainhas:\n",
    "\n",
    "1. Não podem estar na mesma linha;\n",
    "2. Não podem estar na mesma coluna (já garantido pela representação);\n",
    "3. Não podem estar na mesma diagonal."
   ]
  },
  {
   "cell_type": "markdown",
   "id": "491a18b3ca8384fc",
   "metadata": {},
   "source": [
    "### Implementação em Python\n",
    "\n",
    "Primeiro, criamos a função de verificação de solução e uma função auxiliar para imprimir o tabuleiro:"
   ]
  },
  {
   "cell_type": "code",
   "id": "c9ccdf7d65d6f87d",
   "metadata": {},
   "source": [
    "def eh_solucao(estado):\n",
    "    n = len(estado)\n",
    "    for i in range(n):\n",
    "        for j in range(i + 1, n):\n",
    "            if estado[i] == estado[j]: # Mesma linha\n",
    "                return False\n",
    "            if abs(estado[i] - estado[j]) == abs(i - j): # Mesma diagonal\n",
    "                return False\n",
    "    return True\n",
    "\n",
    "def mostrar_tabuleiro(estado):\n",
    "    n = len(estado)\n",
    "    for linha in range(n):\n",
    "        line = \"\"\n",
    "        for col in range(n):\n",
    "            if estado[col] == linha:\n",
    "                line += 'Q'\n",
    "            else:\n",
    "                line += ' . '\n",
    "        print(line)"
   ],
   "outputs": [],
   "execution_count": null
  },
  {
   "cell_type": "markdown",
   "id": "6914f251bbe84885",
   "metadata": {},
   "source": [
    "### Encontrando todas as soluções\n",
    "\n",
    "Agora, implementamos uma busca em profundidade com **backtracking** para encontrar todas as soluções possíveis do problema das 8 rainhas.\n"
   ]
  },
  {
   "cell_type": "code",
   "id": "f860e07bc1c54b2a",
   "metadata": {},
   "source": [
    "def solucao_n_rainhas(n=8):\n",
    "    solucoes = []\n",
    "    \n",
    "    def backtrack(estado=[]):\n",
    "        col = len(estado)\n",
    "        if col == n:\n",
    "            if eh_solucao(estado):\n",
    "                solucoes.append(estado[:])\n",
    "            return\n",
    "        for linha in range(n):\n",
    "            if linha not in estado:\n",
    "                estado.append(linha)\n",
    "                if eh_solucao(estado):\n",
    "                    backtrack(estado)\n",
    "                estado.pop()\n",
    "    \n",
    "    backtrack()\n",
    "    return solucoes"
   ],
   "outputs": [],
   "execution_count": null
  },
  {
   "cell_type": "code",
   "id": "fed70f4e906e0c04",
   "metadata": {},
   "source": [
    "# Resolvendo para 8 Rainhas\n",
    "solucoes = solucao_n_rainhas(8)\n",
    "print(f\"Número total de soluções encontradas {len(solucoes)}\")\n",
    "\n",
    "print(\"Exemplo de solução: \")\n",
    "mostrar_tabuleiro(solucoes[0])"
   ],
   "outputs": [],
   "execution_count": null
  },
  {
   "cell_type": "markdown",
   "id": "3e70c0898a47ac27",
   "metadata": {},
   "source": [
    "## 3. Busca no grafo (A → H)\n",
    "\n",
    "### Pergunta 3\n",
    "\n",
    "Considere o grafo mostrado na Figura. Considere o nó inicial como o nó **A** e o nó final como o nó **H**.\n",
    "\n",
    "Mostre o resultado da busca nesse grafo considerando:\n",
    "\n",
    "* Busca em largura (BFS)\n",
    "* Busca em profundidade (DFS)\n",
    "* Busca em profundidade iterativa (DFS iterativa)\n",
    "\n",
    "### Representação do grafo\n",
    "\n",
    "O grafo fornecido é representado no formato de dicionário de adjacência:\n",
    "\n"
   ]
  },
  {
   "cell_type": "code",
   "id": "f63516aa8cf82ca2",
   "metadata": {},
   "source": [
    "grafo = {\n",
    "    'A': ['C', 'G', 'E'],\n",
    "    'B': ['G'],\n",
    "    'C': ['A', 'F'],\n",
    "    'D': ['H', 'E'],\n",
    "    'E': ['A', 'D', 'H'],\n",
    "    'F': ['C', 'H'],\n",
    "    'G': ['A', 'B', 'H'],\n",
    "    'H': ['D', 'E', 'F', 'G']\n",
    "}"
   ],
   "outputs": [],
   "execution_count": null
  },
  {
   "cell_type": "markdown",
   "id": "cc74ef288d42707c",
   "metadata": {},
   "source": [
    "### Implementação dos algoritmos de busca\n",
    "\n",
    "#### Busca em Largura (BFS)"
   ]
  },
  {
   "cell_type": "code",
   "id": "880db5fef6aa5766",
   "metadata": {},
   "source": [
    "from collections import deque\n",
    "\n",
    "def bfs(grafo, inicio, objetivo):\n",
    "    \"\"\"Busca em Largura (BFS)\"\"\"\n",
    "    visitados = set()\n",
    "    fila = deque([[inicio]])\n",
    "\n",
    "    while fila:\n",
    "        caminho = fila.popleft()\n",
    "        no = caminho[-1]\n",
    "\n",
    "        if no == objetivo:\n",
    "            return caminho\n",
    "\n",
    "        if no not in visitados:\n",
    "            visitados.add(no)\n",
    "            for vizinho in grafo[no]:\n",
    "                novo_caminho = list(caminho)\n",
    "                novo_caminho.append(vizinho)\n",
    "                fila.append(novo_caminho)\n",
    "\n",
    "    return None"
   ],
   "outputs": [],
   "execution_count": null
  },
  {
   "cell_type": "code",
   "id": "a9edc7affb9bb444",
   "metadata": {},
   "source": [
    "print(\"BFS de A até H:\", bfs(grafo, 'A', 'H'))"
   ],
   "outputs": [],
   "execution_count": null
  },
  {
   "cell_type": "markdown",
   "id": "543da229c595cdd0",
   "metadata": {},
   "source": [
    "#### Busca em Profundidade (DFS)"
   ]
  },
  {
   "cell_type": "code",
   "id": "4a6e94de10454322",
   "metadata": {},
   "source": [
    "def dfs(grafo, inicio, objetivo, caminho=None, visitados=None):\n",
    "    \"\"\"Busca em Profundidade (DFS)\"\"\"\n",
    "    if caminho is None:\n",
    "        caminho = [inicio]\n",
    "    if visitados is None:\n",
    "        visitados = set()\n",
    "\n",
    "    no = caminho[-1]\n",
    "    if no == objetivo:\n",
    "        return caminho\n",
    "\n",
    "    visitados.add(no)\n",
    "\n",
    "    for vizinho in grafo[no]:\n",
    "        if vizinho not in visitados:\n",
    "            novo_caminho = dfs(grafo, inicio, objetivo, caminho + [vizinho], visitados)\n",
    "            if novo_caminho:\n",
    "                return novo_caminho\n",
    "\n",
    "    return None"
   ],
   "outputs": [],
   "execution_count": null
  },
  {
   "cell_type": "code",
   "id": "20cea0296136c0a7",
   "metadata": {},
   "source": [
    "print(\"DFS de A até H:\", dfs(grafo, 'A', 'H'))"
   ],
   "outputs": [],
   "execution_count": null
  },
  {
   "cell_type": "markdown",
   "id": "7912fc5d7c0a3c71",
   "metadata": {},
   "source": [
    "#### Busca em Profundidade Iterativa (Iterative Deepening DFS)"
   ]
  },
  {
   "cell_type": "code",
   "id": "9d31abf2741d998e",
   "metadata": {},
   "source": [
    "def dls(grafo, no, objetivo, profundidade, caminho, visitados):\n",
    "    \"\"\"Busca em Profundidade Limitada (DLS)\"\"\"\n",
    "    if profundidade == 0 and no == objetivo:\n",
    "        return caminho\n",
    "    if profundidade > 0:\n",
    "        for vizinho in grafo[no]:\n",
    "            if vizinho not in visitados:\n",
    "                visitados.add(vizinho)\n",
    "                resultado = dls(grafo, vizinho, objetivo, profundidade-1, caminho+[vizinho], visitados)\n",
    "                if resultado:\n",
    "                    return resultado\n",
    "    return None\n",
    "\n",
    "def iddfs(grafo, inicio, objetivo, profundidade_max=10):\n",
    "    \"\"\"Busca em Profundidade Iterativa (IDDFS)\"\"\"\n",
    "    for profundidade in range(profundidade_max):\n",
    "        visitados = set([inicio])\n",
    "        resultado = dls(grafo, inicio, objetivo, profundidade, [inicio], visitados)\n",
    "        if resultado:\n",
    "            return resultado\n",
    "    return None"
   ],
   "outputs": [],
   "execution_count": null
  },
  {
   "cell_type": "code",
   "id": "841284f862389c89",
   "metadata": {},
   "source": [
    "print(\"IDDFS de A até H:\", iddfs(grafo, 'A', 'H'))"
   ],
   "outputs": [],
   "execution_count": null
  },
  {
   "cell_type": "markdown",
   "id": "2c9e52af61565d1a",
   "metadata": {},
   "source": [
    "### Discussões\n",
    "\n",
    "* **BFS**: garante encontrar o caminho mais curto em termos de número de arestas.\n",
    "* **DFS**: encontra um caminho válido, mas não necessariamente o mais curto. A ordem depende da sequência de vizinhos no grafo.\n",
    "* **IDDFS**: combina a completude do BFS com o baixo consumo de memória do DFS, explorando os limites de profundidade de forma incremental."
   ]
  },
  {
   "metadata": {},
   "cell_type": "markdown",
   "source": [
    "Você pode acessar todo o repositório no GitHub clicando no badge abaixo:\n",
    "\n",
    "[![GitHub Repository](https://img.shields.io/badge/GitHub-Inteligencia--Artificial-blue?logo=github)](https://github.com/MClaraFerreira5/Inteligencia-Artificial)\n"
   ],
   "id": "5801c2e71595843c"
  }
 ],
 "metadata": {
  "kernelspec": {
   "display_name": "Python 3 (ipykernel)",
   "language": "python",
   "name": "python3"
  },
  "language_info": {
   "codemirror_mode": {
    "name": "ipython",
    "version": 3
   },
   "file_extension": ".py",
   "mimetype": "text/x-python",
   "name": "python",
   "nbconvert_exporter": "python",
   "pygments_lexer": "ipython3",
   "version": "3.12.10"
  }
 },
 "nbformat": 4,
 "nbformat_minor": 5
}
